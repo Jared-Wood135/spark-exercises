{
 "cells": [
  {
   "cell_type": "markdown",
   "id": "d828a2f8",
   "metadata": {},
   "source": [
    "<div style='background-color : orange'>\n",
    "<a id='TableOfContents'></a>\n",
    "    <b><u><i><h1 style='text-align : center'>\n",
    "        Table of Contents\n",
    "    </h1></i></u></b>\n",
    "<li><a href='#imports'>Imports</a></li>\n",
    "<li><a href='#q1'>Question 1</a></li>\n",
    "<li><a href='#q2'>Question 2</a></li>\n",
    "<li><a href='#q3'>Question 3</a></li>\n",
    "<li><a href='#q4'>Question 4</a></li>\n",
    "<li><a href='#misc'>Miscellaneous</a></li>"
   ]
  },
  {
   "cell_type": "markdown",
   "id": "2b0a2348",
   "metadata": {},
   "source": [
    "<div style='background-color : orange'>\n",
    "<a id='imports'></a>\n",
    "    <b><u><i><h1 style='text-align : center'>\n",
    "        Imports\n",
    "    </h1></i></u></b>\n",
    "<li><a href='#TableOfContents'>Table of Contents</a></li>"
   ]
  },
  {
   "cell_type": "code",
   "execution_count": 6,
   "id": "e9d1131b",
   "metadata": {},
   "outputs": [],
   "source": [
    "# Vectorization and dataframing\n",
    "import numpy as np\n",
    "import pandas as pd\n",
    "\n",
    "# Visualizations\n",
    "import matplotlib.pyplot as plt\n",
    "import matplotlib as mpl\n",
    "import seaborn as sns\n",
    "\n",
    "# spark\n",
    "import pyspark\n",
    "from pyspark.sql import functions as F\n",
    "\n",
    "# Play data\n",
    "from pydataset import data\n",
    "\n",
    "# Ignore warnings\n",
    "import warnings\n",
    "warnings.filterwarnings('ignore')"
   ]
  },
  {
   "cell_type": "code",
   "execution_count": 3,
   "id": "226c697e",
   "metadata": {},
   "outputs": [],
   "source": [
    "# Set default plt style to 'bmh'\n",
    "mpl.style.use('bmh')"
   ]
  },
  {
   "cell_type": "code",
   "execution_count": 7,
   "id": "fded8cf6",
   "metadata": {},
   "outputs": [
    {
     "name": "stderr",
     "output_type": "stream",
     "text": [
      "Setting default log level to \"WARN\".\n",
      "To adjust logging level use sc.setLogLevel(newLevel). For SparkR, use setLogLevel(newLevel).\n",
      "23/05/21 13:26:24 WARN NativeCodeLoader: Unable to load native-hadoop library for your platform... using builtin-java classes where applicable\n"
     ]
    }
   ],
   "source": [
    "# Initialize a session\n",
    "spark = pyspark.sql.SparkSession.builder.getOrCreate()"
   ]
  },
  {
   "cell_type": "markdown",
   "id": "09a57f87",
   "metadata": {},
   "source": [
    "<div style='background-color : orange'>\n",
    "<a id='q1'></a>\n",
    "    <b><u><i><h1 style='text-align : center'>\n",
    "        Question 1\n",
    "    </h1></i></u></b>\n",
    "<li><a href='#TableOfContents'>Table of Contents</a></li>"
   ]
  },
  {
   "cell_type": "markdown",
   "id": "9c6cc08a",
   "metadata": {},
   "source": [
    "<b>Question 1.</b> Create a spark data frame that contains your favorite programming languages.\n",
    "- The name of the column should be <mark>language</mark>\n",
    "- View the schema of the dataframe\n",
    "- Output the shape of the dataframe\n",
    "- Show the first 5 records in the dataframe"
   ]
  },
  {
   "cell_type": "code",
   "execution_count": 11,
   "id": "36f108a2",
   "metadata": {},
   "outputs": [
    {
     "data": {
      "text/html": [
       "<div>\n",
       "<style scoped>\n",
       "    .dataframe tbody tr th:only-of-type {\n",
       "        vertical-align: middle;\n",
       "    }\n",
       "\n",
       "    .dataframe tbody tr th {\n",
       "        vertical-align: top;\n",
       "    }\n",
       "\n",
       "    .dataframe thead th {\n",
       "        text-align: right;\n",
       "    }\n",
       "</style>\n",
       "<table border=\"1\" class=\"dataframe\">\n",
       "  <thead>\n",
       "    <tr style=\"text-align: right;\">\n",
       "      <th></th>\n",
       "      <th>stuff</th>\n",
       "    </tr>\n",
       "  </thead>\n",
       "  <tbody>\n",
       "    <tr>\n",
       "      <th>0</th>\n",
       "      <td>python</td>\n",
       "    </tr>\n",
       "    <tr>\n",
       "      <th>1</th>\n",
       "      <td>html</td>\n",
       "    </tr>\n",
       "    <tr>\n",
       "      <th>2</th>\n",
       "      <td>java</td>\n",
       "    </tr>\n",
       "    <tr>\n",
       "      <th>3</th>\n",
       "      <td>c++</td>\n",
       "    </tr>\n",
       "    <tr>\n",
       "      <th>4</th>\n",
       "      <td>php</td>\n",
       "    </tr>\n",
       "    <tr>\n",
       "      <th>5</th>\n",
       "      <td>sql</td>\n",
       "    </tr>\n",
       "    <tr>\n",
       "      <th>6</th>\n",
       "      <td>other</td>\n",
       "    </tr>\n",
       "    <tr>\n",
       "      <th>7</th>\n",
       "      <td>meh</td>\n",
       "    </tr>\n",
       "  </tbody>\n",
       "</table>\n",
       "</div>"
      ],
      "text/plain": [
       "    stuff\n",
       "0  python\n",
       "1    html\n",
       "2    java\n",
       "3     c++\n",
       "4     php\n",
       "5     sql\n",
       "6   other\n",
       "7     meh"
      ]
     },
     "execution_count": 11,
     "metadata": {},
     "output_type": "execute_result"
    }
   ],
   "source": [
    "# Create pandas dataframe of coding languages\n",
    "languages = {\n",
    "    'stuff' : ['python', \n",
    "                  'html', \n",
    "                  'java', \n",
    "                  'c++', \n",
    "                  'php', \n",
    "                  'sql', \n",
    "                  'other', \n",
    "                  'meh']\n",
    "}\n",
    "lang_df = pd.DataFrame(languages)\n",
    "lang_df"
   ]
  },
  {
   "cell_type": "code",
   "execution_count": 15,
   "id": "3ee3d2f1",
   "metadata": {},
   "outputs": [
    {
     "name": "stdout",
     "output_type": "stream",
     "text": [
      "+------+\n",
      "| stuff|\n",
      "+------+\n",
      "|python|\n",
      "|  html|\n",
      "|  java|\n",
      "|   c++|\n",
      "|   php|\n",
      "|   sql|\n",
      "| other|\n",
      "|   meh|\n",
      "+------+\n",
      "\n"
     ]
    }
   ],
   "source": [
    "# Create spark session of above pandas dataframe\n",
    "lang = spark.createDataFrame(lang_df)\n",
    "lang.show()"
   ]
  },
  {
   "cell_type": "code",
   "execution_count": 16,
   "id": "8ec0d6bb",
   "metadata": {},
   "outputs": [
    {
     "name": "stdout",
     "output_type": "stream",
     "text": [
      "+--------+\n",
      "|language|\n",
      "+--------+\n",
      "|  python|\n",
      "|    html|\n",
      "|    java|\n",
      "|     c++|\n",
      "|     php|\n",
      "|     sql|\n",
      "|   other|\n",
      "|     meh|\n",
      "+--------+\n",
      "\n"
     ]
    }
   ],
   "source": [
    "# Rename 'stuff' column to 'language'\n",
    "lang = lang.withColumnRenamed('stuff', 'language')\n",
    "lang.show()"
   ]
  },
  {
   "cell_type": "markdown",
   "id": "d496b5e4",
   "metadata": {},
   "source": [
    "---"
   ]
  },
  {
   "cell_type": "code",
   "execution_count": 17,
   "id": "d3699a44",
   "metadata": {},
   "outputs": [
    {
     "name": "stdout",
     "output_type": "stream",
     "text": [
      "root\n",
      " |-- language: string (nullable = true)\n",
      "\n"
     ]
    }
   ],
   "source": [
    "# Get the schema\n",
    "lang.printSchema()"
   ]
  },
  {
   "cell_type": "markdown",
   "id": "308d28e9",
   "metadata": {},
   "source": [
    "---"
   ]
  },
  {
   "cell_type": "code",
   "execution_count": 22,
   "id": "2c95566e",
   "metadata": {},
   "outputs": [
    {
     "data": {
      "text/plain": [
       "(8, 1)"
      ]
     },
     "execution_count": 22,
     "metadata": {},
     "output_type": "execute_result"
    }
   ],
   "source": [
    "# Get shape of spark dataframe\n",
    "lang.count(), len(lang.columns)"
   ]
  },
  {
   "cell_type": "markdown",
   "id": "ae72d56a",
   "metadata": {},
   "source": [
    "---"
   ]
  },
  {
   "cell_type": "code",
   "execution_count": 23,
   "id": "a5c5345d",
   "metadata": {},
   "outputs": [
    {
     "name": "stdout",
     "output_type": "stream",
     "text": [
      "+--------+\n",
      "|language|\n",
      "+--------+\n",
      "|  python|\n",
      "|    html|\n",
      "|    java|\n",
      "|     c++|\n",
      "|     php|\n",
      "+--------+\n",
      "only showing top 5 rows\n",
      "\n"
     ]
    }
   ],
   "source": [
    "# Get first 5 records\n",
    "lang.show(5)"
   ]
  },
  {
   "cell_type": "markdown",
   "id": "5cdb5022",
   "metadata": {},
   "source": [
    "<div style='background-color : orange'>\n",
    "<a id='q2'></a>\n",
    "    <b><u><i><h1 style='text-align : center'>\n",
    "        Question 2\n",
    "    </h1></i></u></b>\n",
    "<li><a href='#TableOfContents'>Table of Contents</a></li>\n",
    "<li><a href='#q2a'>Question 2a</a></li>\n",
    "<li><a href='#q2b'>Question 2b</a></li>"
   ]
  },
  {
   "cell_type": "markdown",
   "id": "523faf1d",
   "metadata": {},
   "source": [
    "<b>Question 2.</b> Load the <mark>mpg</mark> dataset as a spark dataframe."
   ]
  },
  {
   "cell_type": "code",
   "execution_count": null,
   "id": "095ce811",
   "metadata": {},
   "outputs": [],
   "source": []
  },
  {
   "cell_type": "markdown",
   "id": "85326aae",
   "metadata": {},
   "source": [
    "---"
   ]
  },
  {
   "cell_type": "markdown",
   "id": "a473e770",
   "metadata": {},
   "source": [
    "<a id='q2a'></a>\n",
    "<b>Question 2a.</b> Create 1 column of output that contains a message like the one below:\n",
    "- <mark>The 1999 audi a4 has a 4 cylinder engine.</mark>\n",
    "\n",
    "For each vehicle.\n",
    "\n",
    "<li><a href='#q2'>Question 2 Top</a></li>"
   ]
  },
  {
   "cell_type": "code",
   "execution_count": null,
   "id": "c8413ca9",
   "metadata": {},
   "outputs": [],
   "source": []
  },
  {
   "cell_type": "markdown",
   "id": "f860a0b2",
   "metadata": {},
   "source": [
    "---"
   ]
  },
  {
   "cell_type": "markdown",
   "id": "a676fa9a",
   "metadata": {},
   "source": [
    "<a id='q2b'></a>\n",
    "<b>Question 2b.</b> Transform the <mark>trans</mark> column so that it only contains either <mark>manual</mark> or <mark>auto</mark>.\n",
    "\n",
    "<li><a href='#q2'>Question 2 Top</a></li>"
   ]
  },
  {
   "cell_type": "code",
   "execution_count": null,
   "id": "f639d6a4",
   "metadata": {},
   "outputs": [],
   "source": []
  },
  {
   "cell_type": "markdown",
   "id": "3810f905",
   "metadata": {},
   "source": [
    "<div style='background-color : orange'>\n",
    "<a id='q3'></a>\n",
    "    <b><u><i><h1 style='text-align : center'>\n",
    "        Question 3\n",
    "    </h1></i></u></b>\n",
    "<li><a href='#TableOfContents'>Table of Contents</a></li>\n",
    "<li><a href='#q3a'>Question 3a</a></li>\n",
    "<li><a href='#q3b'>Question 3b</a></li>\n",
    "<li><a href='#q3c'>Question 3c</a></li>"
   ]
  },
  {
   "cell_type": "markdown",
   "id": "a752255e",
   "metadata": {},
   "source": [
    "<b>Question 3.</b> Load the <mark>tips</mark> dataset as a spark dataframe."
   ]
  },
  {
   "cell_type": "code",
   "execution_count": null,
   "id": "74c0d7f5",
   "metadata": {},
   "outputs": [],
   "source": []
  },
  {
   "cell_type": "markdown",
   "id": "ace9fb9a",
   "metadata": {},
   "source": [
    "---"
   ]
  },
  {
   "cell_type": "markdown",
   "id": "9cf39e6f",
   "metadata": {},
   "source": [
    "<a id='q3a'></a>\n",
    "<b>Question 3a.</b> What percentage of observations are smokers?\n",
    "\n",
    "<li><a href='#q3'>Question 3 Top</a></li>"
   ]
  },
  {
   "cell_type": "code",
   "execution_count": null,
   "id": "cb1970e6",
   "metadata": {},
   "outputs": [],
   "source": []
  },
  {
   "cell_type": "markdown",
   "id": "7ccf95d6",
   "metadata": {},
   "source": [
    "---"
   ]
  },
  {
   "cell_type": "markdown",
   "id": "77cb937f",
   "metadata": {},
   "source": [
    "<a id='q3b'></a>\n",
    "<b>Question 3b.</b> Create a column that contains the tip percentage\n",
    "\n",
    "<li><a href='#q3'>Question 3 Top</a></li>"
   ]
  },
  {
   "cell_type": "code",
   "execution_count": null,
   "id": "58b8744a",
   "metadata": {},
   "outputs": [],
   "source": []
  },
  {
   "cell_type": "markdown",
   "id": "1b4b8880",
   "metadata": {},
   "source": [
    "---"
   ]
  },
  {
   "cell_type": "markdown",
   "id": "b19207ba",
   "metadata": {},
   "source": [
    "<a id='q3c'></a>\n",
    "<b>Question 3c.</b> Calculate the average tip percentage for each combination of sex and smoker.\n",
    "\n",
    "<li><a href='#q3'>Question 3 Top</a></li>"
   ]
  },
  {
   "cell_type": "code",
   "execution_count": null,
   "id": "24aa7cc0",
   "metadata": {},
   "outputs": [],
   "source": []
  },
  {
   "cell_type": "markdown",
   "id": "953b0d46",
   "metadata": {},
   "source": [
    "<div style='background-color : orange'>\n",
    "<a id='q4'></a>\n",
    "    <b><u><i><h1 style='text-align : center'>\n",
    "        Question 4\n",
    "    </h1></i></u></b>\n",
    "<li><a href='#TableOfContents'>Table of Contents</a></li>\n",
    "<li><a href='#q4a'>Question 4a</a></li>\n",
    "<li><a href='#q4b'>Question 4b</a></li>\n",
    "<li><a href='#q4c'>Question 4c</a></li>\n",
    "<li><a href='#q4d'>Question 4d</a></li>\n",
    "<li><a href='#q4e'>Question 4e</a></li>\n",
    "<li><a href='#q4f'>Question 4f</a></li>\n",
    "<li><a href='#q4g'>Question 4g</a></li>"
   ]
  },
  {
   "cell_type": "markdown",
   "id": "3cda6680",
   "metadata": {},
   "source": [
    "<b>Question 4.</b> Use the seattle weather dataset referenced in the lesson to answer the questions below."
   ]
  },
  {
   "cell_type": "code",
   "execution_count": null,
   "id": "762fec99",
   "metadata": {},
   "outputs": [],
   "source": []
  },
  {
   "cell_type": "markdown",
   "id": "dde6134a",
   "metadata": {},
   "source": [
    "---"
   ]
  },
  {
   "cell_type": "markdown",
   "id": "2a67b982",
   "metadata": {},
   "source": [
    "<a id='q4a'></a>\n",
    "<b>Question 4a.</b> Convert the temperatures to fahrenheit.\n",
    "\n",
    "<li><a href='#q4'>Question 4 Top</a></li>"
   ]
  },
  {
   "cell_type": "code",
   "execution_count": null,
   "id": "bab8547c",
   "metadata": {},
   "outputs": [],
   "source": []
  },
  {
   "cell_type": "markdown",
   "id": "18a98543",
   "metadata": {},
   "source": [
    "---"
   ]
  },
  {
   "cell_type": "markdown",
   "id": "8f714751",
   "metadata": {},
   "source": [
    "<a id='q4b'></a>\n",
    "<b>Question 4b.</b> Which month has the most rain, on average?\n",
    "\n",
    "<li><a href='#q4'>Question 4 Top</a></li>"
   ]
  },
  {
   "cell_type": "code",
   "execution_count": null,
   "id": "9897cd6e",
   "metadata": {},
   "outputs": [],
   "source": []
  },
  {
   "cell_type": "markdown",
   "id": "d6f108ae",
   "metadata": {},
   "source": [
    "---"
   ]
  },
  {
   "cell_type": "markdown",
   "id": "65e8a049",
   "metadata": {},
   "source": [
    "<a id='q4c'></a>\n",
    "<b>Question 4c.</b> Which year was the windiest?\n",
    "\n",
    "<li><a href='#q4'>Question 4 Top</a></li>"
   ]
  },
  {
   "cell_type": "code",
   "execution_count": null,
   "id": "6fc341da",
   "metadata": {},
   "outputs": [],
   "source": []
  },
  {
   "cell_type": "markdown",
   "id": "ecdba1e7",
   "metadata": {},
   "source": [
    "---"
   ]
  },
  {
   "cell_type": "markdown",
   "id": "8c1bd5ba",
   "metadata": {},
   "source": [
    "<a id='q4d'></a>\n",
    "<b>Question 4d.</b> What is the most frequent type of weather in January?\n",
    "\n",
    "<li><a href='#q4'>Question 4 Top</a></li>"
   ]
  },
  {
   "cell_type": "code",
   "execution_count": null,
   "id": "7d96f9ea",
   "metadata": {},
   "outputs": [],
   "source": []
  },
  {
   "cell_type": "markdown",
   "id": "9f84daf0",
   "metadata": {},
   "source": [
    "---"
   ]
  },
  {
   "cell_type": "markdown",
   "id": "2052f03f",
   "metadata": {},
   "source": [
    "<a id='q4e'></a>\n",
    "<b>Question 4e.</b> What is the average high and low temperature on sunny days in July in 2013 and 2014?\n",
    "\n",
    "<li><a href='#q4'>Question 4 Top</a></li>"
   ]
  },
  {
   "cell_type": "code",
   "execution_count": null,
   "id": "8fdd3878",
   "metadata": {},
   "outputs": [],
   "source": []
  },
  {
   "cell_type": "markdown",
   "id": "dc183ff3",
   "metadata": {},
   "source": [
    "---"
   ]
  },
  {
   "cell_type": "markdown",
   "id": "d5ab2a0b",
   "metadata": {},
   "source": [
    "<a id='q4f'></a>\n",
    "<b>Question 4f.</b> What percentage of days were rainy in q3 of 2015?\n",
    "\n",
    "<li><a href='#q4'>Question 4 Top</a></li>"
   ]
  },
  {
   "cell_type": "code",
   "execution_count": null,
   "id": "08e40fad",
   "metadata": {},
   "outputs": [],
   "source": []
  },
  {
   "cell_type": "markdown",
   "id": "a872a93e",
   "metadata": {},
   "source": [
    "---"
   ]
  },
  {
   "cell_type": "markdown",
   "id": "90b8b7c9",
   "metadata": {},
   "source": [
    "<a id='q4g'></a>\n",
    "<b>Question 4g.</b> For each year, find what percentage of days it rained (had non-zero precipitation).\n",
    "\n",
    "<li><a href='#q4'>Question 4 Top</a></li>"
   ]
  },
  {
   "cell_type": "code",
   "execution_count": null,
   "id": "6dedcda0",
   "metadata": {},
   "outputs": [],
   "source": []
  },
  {
   "cell_type": "markdown",
   "id": "3ec3b05b",
   "metadata": {},
   "source": [
    "<div style='background-color : orange'>\n",
    "<a id='misc'></a>\n",
    "    <b><u><i><h1 style='text-align : center'>\n",
    "        Miscellaneous\n",
    "    </h1></i></u></b>\n",
    "<li><a href='#TableOfContents'>Table of Contents</a></li>"
   ]
  },
  {
   "cell_type": "code",
   "execution_count": null,
   "id": "0ece7c9d",
   "metadata": {},
   "outputs": [],
   "source": []
  }
 ],
 "metadata": {
  "kernelspec": {
   "display_name": "Python 3 (ipykernel)",
   "language": "python",
   "name": "python3"
  },
  "language_info": {
   "codemirror_mode": {
    "name": "ipython",
    "version": 3
   },
   "file_extension": ".py",
   "mimetype": "text/x-python",
   "name": "python",
   "nbconvert_exporter": "python",
   "pygments_lexer": "ipython3",
   "version": "3.9.13"
  }
 },
 "nbformat": 4,
 "nbformat_minor": 5
}
