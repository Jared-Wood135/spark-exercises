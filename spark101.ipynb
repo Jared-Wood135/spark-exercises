{
 "cells": [
  {
   "cell_type": "markdown",
   "id": "d828a2f8",
   "metadata": {},
   "source": [
    "<div style='background-color : orange'>\n",
    "<a id='TableOfContents'></a>\n",
    "    <b><u><i><h1 style='text-align : center'>\n",
    "        Table of Contents\n",
    "    </h1></i></u></b>\n",
    "<li><a href='#imports'>Imports</a></li>\n",
    "<li><a href='#q1'>Question 1</a></li>\n",
    "<li><a href='#q2'>Question 2</a></li>\n",
    "<li><a href='#q3'>Question 3</a></li>\n",
    "<li><a href='#q4'>Question 4</a></li>\n",
    "<li><a href='#misc'>Miscellaneous</a></li>"
   ]
  },
  {
   "cell_type": "markdown",
   "id": "2b0a2348",
   "metadata": {},
   "source": [
    "<div style='background-color : orange'>\n",
    "<a id='imports'></a>\n",
    "    <b><u><i><h1 style='text-align : center'>\n",
    "        Imports\n",
    "    </h1></i></u></b>\n",
    "<li><a href='#TableOfContents'>Table of Contents</a></li>"
   ]
  },
  {
   "cell_type": "code",
   "execution_count": 2,
   "id": "e9d1131b",
   "metadata": {},
   "outputs": [],
   "source": [
    "# Vectorization and dataframing\n",
    "import numpy as np\n",
    "import pandas as pd\n",
    "\n",
    "# Visualizations\n",
    "import matplotlib.pyplot as plt\n",
    "import matplotlib as mpl\n",
    "import seaborn as sns\n",
    "\n",
    "# spark\n",
    "import pyspark\n",
    "from pyspark.sql import functions as F\n",
    "\n",
    "# Play data\n",
    "from pydataset import data\n",
    "\n",
    "# Ignore warnings\n",
    "import warnings\n",
    "warnings.filterwarnings('ignore')"
   ]
  },
  {
   "cell_type": "code",
   "execution_count": 3,
   "id": "226c697e",
   "metadata": {},
   "outputs": [],
   "source": [
    "# Set default plt style to 'bmh'\n",
    "mpl.style.use('bmh')"
   ]
  },
  {
   "cell_type": "code",
   "execution_count": 4,
   "id": "0239c014",
   "metadata": {},
   "outputs": [
    {
     "name": "stderr",
     "output_type": "stream",
     "text": [
      "Setting default log level to \"WARN\".\n",
      "To adjust logging level use sc.setLogLevel(newLevel). For SparkR, use setLogLevel(newLevel).\n",
      "23/05/21 13:51:28 WARN NativeCodeLoader: Unable to load native-hadoop library for your platform... using builtin-java classes where applicable\n"
     ]
    }
   ],
   "source": [
    "# Initialize a session\n",
    "spark = pyspark.sql.SparkSession.builder.getOrCreate()"
   ]
  },
  {
   "cell_type": "markdown",
   "id": "09a57f87",
   "metadata": {},
   "source": [
    "<div style='background-color : orange'>\n",
    "<a id='q1'></a>\n",
    "    <b><u><i><h1 style='text-align : center'>\n",
    "        Question 1\n",
    "    </h1></i></u></b>\n",
    "<li><a href='#TableOfContents'>Table of Contents</a></li>"
   ]
  },
  {
   "cell_type": "markdown",
   "id": "9c6cc08a",
   "metadata": {},
   "source": [
    "<b>Question 1.</b> Create a spark data frame that contains your favorite programming languages.\n",
    "- The name of the column should be <mark>language</mark>\n",
    "- View the schema of the dataframe\n",
    "- Output the shape of the dataframe\n",
    "- Show the first 5 records in the dataframe"
   ]
  },
  {
   "cell_type": "code",
   "execution_count": 5,
   "id": "36f108a2",
   "metadata": {},
   "outputs": [
    {
     "data": {
      "text/html": [
       "<div>\n",
       "<style scoped>\n",
       "    .dataframe tbody tr th:only-of-type {\n",
       "        vertical-align: middle;\n",
       "    }\n",
       "\n",
       "    .dataframe tbody tr th {\n",
       "        vertical-align: top;\n",
       "    }\n",
       "\n",
       "    .dataframe thead th {\n",
       "        text-align: right;\n",
       "    }\n",
       "</style>\n",
       "<table border=\"1\" class=\"dataframe\">\n",
       "  <thead>\n",
       "    <tr style=\"text-align: right;\">\n",
       "      <th></th>\n",
       "      <th>stuff</th>\n",
       "    </tr>\n",
       "  </thead>\n",
       "  <tbody>\n",
       "    <tr>\n",
       "      <th>0</th>\n",
       "      <td>python</td>\n",
       "    </tr>\n",
       "    <tr>\n",
       "      <th>1</th>\n",
       "      <td>html</td>\n",
       "    </tr>\n",
       "    <tr>\n",
       "      <th>2</th>\n",
       "      <td>java</td>\n",
       "    </tr>\n",
       "    <tr>\n",
       "      <th>3</th>\n",
       "      <td>c++</td>\n",
       "    </tr>\n",
       "    <tr>\n",
       "      <th>4</th>\n",
       "      <td>php</td>\n",
       "    </tr>\n",
       "    <tr>\n",
       "      <th>5</th>\n",
       "      <td>sql</td>\n",
       "    </tr>\n",
       "    <tr>\n",
       "      <th>6</th>\n",
       "      <td>other</td>\n",
       "    </tr>\n",
       "    <tr>\n",
       "      <th>7</th>\n",
       "      <td>meh</td>\n",
       "    </tr>\n",
       "  </tbody>\n",
       "</table>\n",
       "</div>"
      ],
      "text/plain": [
       "    stuff\n",
       "0  python\n",
       "1    html\n",
       "2    java\n",
       "3     c++\n",
       "4     php\n",
       "5     sql\n",
       "6   other\n",
       "7     meh"
      ]
     },
     "execution_count": 5,
     "metadata": {},
     "output_type": "execute_result"
    }
   ],
   "source": [
    "# Create pandas dataframe of coding languages\n",
    "languages = {\n",
    "    'stuff' : ['python', \n",
    "                  'html', \n",
    "                  'java', \n",
    "                  'c++', \n",
    "                  'php', \n",
    "                  'sql', \n",
    "                  'other', \n",
    "                  'meh']\n",
    "}\n",
    "lang_df = pd.DataFrame(languages)\n",
    "lang_df"
   ]
  },
  {
   "cell_type": "code",
   "execution_count": 6,
   "id": "1f83e105",
   "metadata": {},
   "outputs": [
    {
     "name": "stderr",
     "output_type": "stream",
     "text": [
      "\r",
      "[Stage 0:>                                                          (0 + 1) / 1]\r"
     ]
    },
    {
     "name": "stdout",
     "output_type": "stream",
     "text": [
      "+------+\n",
      "| stuff|\n",
      "+------+\n",
      "|python|\n",
      "|  html|\n",
      "|  java|\n",
      "|   c++|\n",
      "|   php|\n",
      "|   sql|\n",
      "| other|\n",
      "|   meh|\n",
      "+------+\n",
      "\n"
     ]
    },
    {
     "name": "stderr",
     "output_type": "stream",
     "text": [
      "\r",
      "                                                                                \r"
     ]
    }
   ],
   "source": [
    "# Create spark session of above pandas dataframe\n",
    "lang = spark.createDataFrame(lang_df)\n",
    "lang.show()"
   ]
  },
  {
   "cell_type": "code",
   "execution_count": 7,
   "id": "5a9e4809",
   "metadata": {},
   "outputs": [
    {
     "name": "stdout",
     "output_type": "stream",
     "text": [
      "+--------+\n",
      "|language|\n",
      "+--------+\n",
      "|  python|\n",
      "|    html|\n",
      "|    java|\n",
      "|     c++|\n",
      "|     php|\n",
      "|     sql|\n",
      "|   other|\n",
      "|     meh|\n",
      "+--------+\n",
      "\n"
     ]
    }
   ],
   "source": [
    "# Rename 'stuff' column to 'language'\n",
    "lang = lang.withColumnRenamed('stuff', 'language')\n",
    "lang.show()"
   ]
  },
  {
   "cell_type": "markdown",
   "id": "8f5f550f",
   "metadata": {},
   "source": [
    "---"
   ]
  },
  {
   "cell_type": "code",
   "execution_count": 8,
   "id": "5cce2c32",
   "metadata": {},
   "outputs": [
    {
     "name": "stdout",
     "output_type": "stream",
     "text": [
      "root\n",
      " |-- language: string (nullable = true)\n",
      "\n"
     ]
    }
   ],
   "source": [
    "# Get the schema\n",
    "lang.printSchema()"
   ]
  },
  {
   "cell_type": "markdown",
   "id": "10bf2e0d",
   "metadata": {},
   "source": [
    "---"
   ]
  },
  {
   "cell_type": "code",
   "execution_count": 9,
   "id": "d8889834",
   "metadata": {},
   "outputs": [
    {
     "data": {
      "text/plain": [
       "(8, 1)"
      ]
     },
     "execution_count": 9,
     "metadata": {},
     "output_type": "execute_result"
    }
   ],
   "source": [
    "# Get shape of spark dataframe\n",
    "lang.count(), len(lang.columns)"
   ]
  },
  {
   "cell_type": "markdown",
   "id": "9e7d1e67",
   "metadata": {},
   "source": [
    "---"
   ]
  },
  {
   "cell_type": "code",
   "execution_count": 10,
   "id": "6906cb8d",
   "metadata": {},
   "outputs": [
    {
     "name": "stdout",
     "output_type": "stream",
     "text": [
      "+--------+\n",
      "|language|\n",
      "+--------+\n",
      "|  python|\n",
      "|    html|\n",
      "|    java|\n",
      "|     c++|\n",
      "|     php|\n",
      "+--------+\n",
      "only showing top 5 rows\n",
      "\n"
     ]
    }
   ],
   "source": [
    "# Get first 5 records\n",
    "lang.show(5)"
   ]
  },
  {
   "cell_type": "markdown",
   "id": "5cdb5022",
   "metadata": {},
   "source": [
    "<div style='background-color : orange'>\n",
    "<a id='q2'></a>\n",
    "    <b><u><i><h1 style='text-align : center'>\n",
    "        Question 2\n",
    "    </h1></i></u></b>\n",
    "<li><a href='#TableOfContents'>Table of Contents</a></li>\n",
    "<li><a href='#q2a'>Question 2a</a></li>\n",
    "<li><a href='#q2b'>Question 2b</a></li>"
   ]
  },
  {
   "cell_type": "markdown",
   "id": "523faf1d",
   "metadata": {},
   "source": [
    "<b>Question 2.</b> Load the <mark>mpg</mark> dataset as a spark dataframe."
   ]
  },
  {
   "cell_type": "code",
   "execution_count": 11,
   "id": "095ce811",
   "metadata": {},
   "outputs": [
    {
     "name": "stdout",
     "output_type": "stream",
     "text": [
      "+------------+-----+-----+----+---+----------+---+---+---+---+-------+\n",
      "|manufacturer|model|displ|year|cyl|     trans|drv|cty|hwy| fl|  class|\n",
      "+------------+-----+-----+----+---+----------+---+---+---+---+-------+\n",
      "|        audi|   a4|  1.8|1999|  4|  auto(l5)|  f| 18| 29|  p|compact|\n",
      "|        audi|   a4|  1.8|1999|  4|manual(m5)|  f| 21| 29|  p|compact|\n",
      "+------------+-----+-----+----+---+----------+---+---+---+---+-------+\n",
      "only showing top 2 rows\n",
      "\n"
     ]
    }
   ],
   "source": [
    "# Create spark session of 'mpg' dataset\n",
    "mpg = spark.createDataFrame(data('mpg'))\n",
    "mpg.show(2)"
   ]
  },
  {
   "cell_type": "markdown",
   "id": "85326aae",
   "metadata": {},
   "source": [
    "---"
   ]
  },
  {
   "cell_type": "markdown",
   "id": "a473e770",
   "metadata": {},
   "source": [
    "<a id='q2a'></a>\n",
    "<b>Question 2a.</b> Create 1 column of output that contains a message like the one below:\n",
    "- <mark>The 1999 audi a4 has a 4 cylinder engine.</mark>\n",
    "\n",
    "For each vehicle.\n",
    "\n",
    "<li><a href='#q2'>Question 2 Top</a></li>"
   ]
  },
  {
   "cell_type": "code",
   "execution_count": 12,
   "id": "c8413ca9",
   "metadata": {},
   "outputs": [
    {
     "data": {
      "text/plain": [
       "['manufacturer',\n",
       " 'model',\n",
       " 'displ',\n",
       " 'year',\n",
       " 'cyl',\n",
       " 'trans',\n",
       " 'drv',\n",
       " 'cty',\n",
       " 'hwy',\n",
       " 'fl',\n",
       " 'class']"
      ]
     },
     "execution_count": 12,
     "metadata": {},
     "output_type": "execute_result"
    }
   ],
   "source": [
    "# Identify where pertinent information lies\n",
    "mpg.columns"
   ]
  },
  {
   "cell_type": "code",
   "execution_count": 13,
   "id": "02acf4fd",
   "metadata": {},
   "outputs": [
    {
     "name": "stdout",
     "output_type": "stream",
     "text": [
      "+----------------------------------------+\n",
      "|statement                               |\n",
      "+----------------------------------------+\n",
      "|The 1999 audi a4 has a 4 cylinder engine|\n",
      "|The 1999 audi a4 has a 4 cylinder engine|\n",
      "|The 2008 audi a4 has a 4 cylinder engine|\n",
      "|The 2008 audi a4 has a 4 cylinder engine|\n",
      "|The 1999 audi a4 has a 6 cylinder engine|\n",
      "+----------------------------------------+\n",
      "only showing top 5 rows\n",
      "\n"
     ]
    }
   ],
   "source": [
    "# Create statement column matching the request\n",
    "mpg.select(\n",
    "    (F.concat(\n",
    "        F.lit('The '),\n",
    "        mpg.year,\n",
    "        F.lit(' '),\n",
    "        mpg.manufacturer,\n",
    "        F.lit(' '),\n",
    "        mpg.model,\n",
    "        F.lit(' has a '),\n",
    "        mpg.cyl,\n",
    "        F.lit(' cylinder engine')\n",
    "    )).alias('statement')).show(5, truncate=False)"
   ]
  },
  {
   "cell_type": "markdown",
   "id": "f860a0b2",
   "metadata": {},
   "source": [
    "---"
   ]
  },
  {
   "cell_type": "markdown",
   "id": "a676fa9a",
   "metadata": {},
   "source": [
    "<a id='q2b'></a>\n",
    "<b>Question 2b.</b> Transform the <mark>trans</mark> column so that it only contains either <mark>manual</mark> or <mark>auto</mark>.\n",
    "\n",
    "<li><a href='#q2'>Question 2 Top</a></li>"
   ]
  },
  {
   "cell_type": "code",
   "execution_count": 14,
   "id": "f639d6a4",
   "metadata": {},
   "outputs": [
    {
     "name": "stdout",
     "output_type": "stream",
     "text": [
      "+----------+\n",
      "|trans_type|\n",
      "+----------+\n",
      "|      auto|\n",
      "|    manual|\n",
      "|    manual|\n",
      "|      auto|\n",
      "|      auto|\n",
      "|    manual|\n",
      "|      auto|\n",
      "|    manual|\n",
      "|      auto|\n",
      "|    manual|\n",
      "|      auto|\n",
      "|      auto|\n",
      "|    manual|\n",
      "|      auto|\n",
      "|    manual|\n",
      "|      auto|\n",
      "|      auto|\n",
      "|      auto|\n",
      "|      auto|\n",
      "|      auto|\n",
      "+----------+\n",
      "only showing top 20 rows\n",
      "\n"
     ]
    }
   ],
   "source": [
    "# Similar to if/else statement\n",
    "mpg.select(\n",
    "    (\n",
    "        F.when(\n",
    "            mpg.trans.contains('auto'), 'auto'\n",
    "            ).otherwise('manual')\n",
    "    ).alias('trans_type')\n",
    ").show()"
   ]
  },
  {
   "cell_type": "markdown",
   "id": "3810f905",
   "metadata": {},
   "source": [
    "<div style='background-color : orange'>\n",
    "<a id='q3'></a>\n",
    "    <b><u><i><h1 style='text-align : center'>\n",
    "        Question 3\n",
    "    </h1></i></u></b>\n",
    "<li><a href='#TableOfContents'>Table of Contents</a></li>\n",
    "<li><a href='#q3a'>Question 3a</a></li>\n",
    "<li><a href='#q3b'>Question 3b</a></li>\n",
    "<li><a href='#q3c'>Question 3c</a></li>"
   ]
  },
  {
   "cell_type": "markdown",
   "id": "a752255e",
   "metadata": {},
   "source": [
    "<b>Question 3.</b> Load the <mark>tips</mark> dataset as a spark dataframe."
   ]
  },
  {
   "cell_type": "code",
   "execution_count": 15,
   "id": "74c0d7f5",
   "metadata": {},
   "outputs": [
    {
     "name": "stdout",
     "output_type": "stream",
     "text": [
      "+----------+----+------+------+---+------+----+\n",
      "|total_bill| tip|   sex|smoker|day|  time|size|\n",
      "+----------+----+------+------+---+------+----+\n",
      "|     16.99|1.01|Female|    No|Sun|Dinner|   2|\n",
      "|     10.34|1.66|  Male|    No|Sun|Dinner|   3|\n",
      "+----------+----+------+------+---+------+----+\n",
      "only showing top 2 rows\n",
      "\n"
     ]
    }
   ],
   "source": [
    "# Create spark session with 'tips' dataset\n",
    "tips = spark.createDataFrame(data('tips'))\n",
    "tips.show(2)"
   ]
  },
  {
   "cell_type": "markdown",
   "id": "ace9fb9a",
   "metadata": {},
   "source": [
    "---"
   ]
  },
  {
   "cell_type": "markdown",
   "id": "9cf39e6f",
   "metadata": {},
   "source": [
    "<a id='q3a'></a>\n",
    "<b>Question 3a.</b> What percentage of observations are smokers?\n",
    "\n",
    "<li><a href='#q3'>Question 3 Top</a></li>"
   ]
  },
  {
   "cell_type": "code",
   "execution_count": 16,
   "id": "cb1970e6",
   "metadata": {},
   "outputs": [
    {
     "data": {
      "text/plain": [
       "['total_bill', 'tip', 'sex', 'smoker', 'day', 'time', 'size']"
      ]
     },
     "execution_count": 16,
     "metadata": {},
     "output_type": "execute_result"
    }
   ],
   "source": [
    "# Identify columns\n",
    "tips.columns"
   ]
  },
  {
   "cell_type": "code",
   "execution_count": 17,
   "id": "309a5628",
   "metadata": {},
   "outputs": [
    {
     "data": {
      "text/plain": [
       "0.38114754098360654"
      ]
     },
     "execution_count": 17,
     "metadata": {},
     "output_type": "execute_result"
    }
   ],
   "source": [
    "# Get percent that are smokers\n",
    "tips.filter(tips.smoker == 'Yes').count() / tips.count()"
   ]
  },
  {
   "cell_type": "markdown",
   "id": "7ccf95d6",
   "metadata": {},
   "source": [
    "---"
   ]
  },
  {
   "cell_type": "markdown",
   "id": "77cb937f",
   "metadata": {},
   "source": [
    "<a id='q3b'></a>\n",
    "<b>Question 3b.</b> Create a column that contains the tip percentage\n",
    "\n",
    "<li><a href='#q3'>Question 3 Top</a></li>"
   ]
  },
  {
   "cell_type": "code",
   "execution_count": 18,
   "id": "58b8744a",
   "metadata": {},
   "outputs": [
    {
     "name": "stdout",
     "output_type": "stream",
     "text": [
      "+----+----------+-----------+\n",
      "| tip|total_bill|tip_percent|\n",
      "+----+----------+-----------+\n",
      "|1.01|     16.99|       0.06|\n",
      "|1.66|     10.34|       0.16|\n",
      "| 3.5|     21.01|       0.17|\n",
      "|3.31|     23.68|       0.14|\n",
      "|3.61|     24.59|       0.15|\n",
      "+----+----------+-----------+\n",
      "only showing top 5 rows\n",
      "\n"
     ]
    }
   ],
   "source": [
    "# Get the percentage of tip amount\n",
    "tips.withColumn(\n",
    "    'tip_percent',\n",
    "    F.round((tips.tip / tips.total_bill), 2)\n",
    ").select('tip', 'total_bill', 'tip_percent').show(5)"
   ]
  },
  {
   "cell_type": "markdown",
   "id": "1b4b8880",
   "metadata": {},
   "source": [
    "---"
   ]
  },
  {
   "cell_type": "markdown",
   "id": "b19207ba",
   "metadata": {},
   "source": [
    "<a id='q3c'></a>\n",
    "<b>Question 3c.</b> Calculate the average tip percentage for each combination of sex and smoker.\n",
    "\n",
    "<li><a href='#q3'>Question 3 Top</a></li>"
   ]
  },
  {
   "cell_type": "code",
   "execution_count": 19,
   "id": "24aa7cc0",
   "metadata": {},
   "outputs": [
    {
     "name": "stdout",
     "output_type": "stream",
     "text": [
      "+------+------+--------------+\n",
      "|   sex|smoker|avg_percentage|\n",
      "+------+------+--------------+\n",
      "|  Male|    No|          0.16|\n",
      "|Female|    No|          0.16|\n",
      "|  Male|   Yes|          0.15|\n",
      "|Female|   Yes|          0.18|\n",
      "+------+------+--------------+\n",
      "\n"
     ]
    }
   ],
   "source": [
    "# Show the average percentage for each sex and smoker combo\n",
    "tips.withColumn(\n",
    "    'tip_percentage',\n",
    "    F.round((tips.tip / tips.total_bill), 2)\n",
    ").groupby('sex', 'smoker').agg(\n",
    "    F.round(F.mean('tip_percentage'), 2).alias('avg_percentage')).show()"
   ]
  },
  {
   "cell_type": "markdown",
   "id": "953b0d46",
   "metadata": {},
   "source": [
    "<div style='background-color : orange'>\n",
    "<a id='q4'></a>\n",
    "    <b><u><i><h1 style='text-align : center'>\n",
    "        Question 4\n",
    "    </h1></i></u></b>\n",
    "<li><a href='#TableOfContents'>Table of Contents</a></li>\n",
    "<li><a href='#q4a'>Question 4a</a></li>\n",
    "<li><a href='#q4b'>Question 4b</a></li>\n",
    "<li><a href='#q4c'>Question 4c</a></li>\n",
    "<li><a href='#q4d'>Question 4d</a></li>\n",
    "<li><a href='#q4e'>Question 4e</a></li>\n",
    "<li><a href='#q4f'>Question 4f</a></li>\n",
    "<li><a href='#q4g'>Question 4g</a></li>"
   ]
  },
  {
   "cell_type": "markdown",
   "id": "3cda6680",
   "metadata": {},
   "source": [
    "<b>Question 4.</b> Use the seattle weather dataset referenced in the lesson to answer the questions below."
   ]
  },
  {
   "cell_type": "code",
   "execution_count": 22,
   "id": "762fec99",
   "metadata": {},
   "outputs": [
    {
     "data": {
      "text/plain": [
       "['date', 'precipitation', 'temp_max', 'temp_min', 'wind', 'weather']"
      ]
     },
     "execution_count": 22,
     "metadata": {},
     "output_type": "execute_result"
    }
   ],
   "source": [
    "# Create spark session of weather dataset\n",
    "from vega_datasets import data\n",
    "weather = spark.createDataFrame(data.seattle_weather())\n",
    "weather.columns"
   ]
  },
  {
   "cell_type": "code",
   "execution_count": 24,
   "id": "6a872f74",
   "metadata": {},
   "outputs": [
    {
     "name": "stdout",
     "output_type": "stream",
     "text": [
      "-RECORD 0----------------------------\n",
      " date          | 2012-01-01 00:00:00 \n",
      " precipitation | 0.0                 \n",
      " temp_max      | 12.8                \n",
      " temp_min      | 5.0                 \n",
      " wind          | 4.7                 \n",
      " weather       | drizzle             \n",
      "-RECORD 1----------------------------\n",
      " date          | 2012-01-02 00:00:00 \n",
      " precipitation | 10.9                \n",
      " temp_max      | 10.6                \n",
      " temp_min      | 2.8                 \n",
      " wind          | 4.5                 \n",
      " weather       | rain                \n",
      "-RECORD 2----------------------------\n",
      " date          | 2012-01-03 00:00:00 \n",
      " precipitation | 0.8                 \n",
      " temp_max      | 11.7                \n",
      " temp_min      | 7.2                 \n",
      " wind          | 2.3                 \n",
      " weather       | rain                \n",
      "-RECORD 3----------------------------\n",
      " date          | 2012-01-04 00:00:00 \n",
      " precipitation | 20.3                \n",
      " temp_max      | 12.2                \n",
      " temp_min      | 5.6                 \n",
      " wind          | 4.7                 \n",
      " weather       | rain                \n",
      "-RECORD 4----------------------------\n",
      " date          | 2012-01-05 00:00:00 \n",
      " precipitation | 1.3                 \n",
      " temp_max      | 8.9                 \n",
      " temp_min      | 2.8                 \n",
      " wind          | 6.1                 \n",
      " weather       | rain                \n",
      "only showing top 5 rows\n",
      "\n"
     ]
    }
   ],
   "source": [
    "weather.show(5, vertical=True)"
   ]
  },
  {
   "cell_type": "markdown",
   "id": "dde6134a",
   "metadata": {},
   "source": [
    "---"
   ]
  },
  {
   "cell_type": "markdown",
   "id": "2a67b982",
   "metadata": {},
   "source": [
    "<a id='q4a'></a>\n",
    "<b>Question 4a.</b> Convert the temperatures to fahrenheit.\n",
    "\n",
    "<li><a href='#q4'>Question 4 Top</a></li>"
   ]
  },
  {
   "cell_type": "code",
   "execution_count": 27,
   "id": "bab8547c",
   "metadata": {},
   "outputs": [],
   "source": [
    "# C ==> F == (xC * 9/5) + 32 \n",
    "weather = weather.withColumn('temp_min',\n",
    "                  weather.temp_min * 1.8 + 32\n",
    "                  ).withColumn('temp_max',\n",
    "                              weather.temp_max * 1.8 + 32)"
   ]
  },
  {
   "cell_type": "code",
   "execution_count": 28,
   "id": "72b007c1",
   "metadata": {},
   "outputs": [
    {
     "name": "stdout",
     "output_type": "stream",
     "text": [
      "-RECORD 0----------------------------\n",
      " date          | 2012-01-01 00:00:00 \n",
      " precipitation | 0.0                 \n",
      " temp_max      | 55.040000000000006  \n",
      " temp_min      | 41.0                \n",
      " wind          | 4.7                 \n",
      " weather       | drizzle             \n",
      "-RECORD 1----------------------------\n",
      " date          | 2012-01-02 00:00:00 \n",
      " precipitation | 10.9                \n",
      " temp_max      | 51.08               \n",
      " temp_min      | 37.04               \n",
      " wind          | 4.5                 \n",
      " weather       | rain                \n",
      "-RECORD 2----------------------------\n",
      " date          | 2012-01-03 00:00:00 \n",
      " precipitation | 0.8                 \n",
      " temp_max      | 53.06               \n",
      " temp_min      | 44.96               \n",
      " wind          | 2.3                 \n",
      " weather       | rain                \n",
      "-RECORD 3----------------------------\n",
      " date          | 2012-01-04 00:00:00 \n",
      " precipitation | 20.3                \n",
      " temp_max      | 53.96               \n",
      " temp_min      | 42.08               \n",
      " wind          | 4.7                 \n",
      " weather       | rain                \n",
      "-RECORD 4----------------------------\n",
      " date          | 2012-01-05 00:00:00 \n",
      " precipitation | 1.3                 \n",
      " temp_max      | 48.019999999999996  \n",
      " temp_min      | 37.04               \n",
      " wind          | 6.1                 \n",
      " weather       | rain                \n",
      "only showing top 5 rows\n",
      "\n"
     ]
    }
   ],
   "source": [
    "# Check the results\n",
    "weather.show(5, vertical=True)"
   ]
  },
  {
   "cell_type": "markdown",
   "id": "18a98543",
   "metadata": {},
   "source": [
    "---"
   ]
  },
  {
   "cell_type": "markdown",
   "id": "8f714751",
   "metadata": {},
   "source": [
    "<a id='q4b'></a>\n",
    "<b>Question 4b.</b> Which month has the most rain, on average?\n",
    "\n",
    "<li><a href='#q4'>Question 4 Top</a></li>"
   ]
  },
  {
   "cell_type": "code",
   "execution_count": 31,
   "id": "9897cd6e",
   "metadata": {},
   "outputs": [
    {
     "name": "stdout",
     "output_type": "stream",
     "text": [
      "+-------+------------------+\n",
      "|weather|sum(precipitation)|\n",
      "+-------+------------------+\n",
      "|drizzle|               1.0|\n",
      "|   rain|1321.8000000000006|\n",
      "|    sun|239.39999999999995|\n",
      "|   snow|             208.1|\n",
      "|    fog|2655.7000000000003|\n",
      "+-------+------------------+\n",
      "\n"
     ]
    }
   ],
   "source": [
    "weather.groupby('weather').sum('precipitation').show()"
   ]
  },
  {
   "cell_type": "code",
   "execution_count": 35,
   "id": "56f9ce92",
   "metadata": {},
   "outputs": [
    {
     "name": "stdout",
     "output_type": "stream",
     "text": [
      "-RECORD 0----------------------------------\n",
      " month               | 9                   \n",
      " mean_precipitation  | 0.22499999999999998 \n",
      " total_precipitation | 0.8999999999999999  \n",
      "-RECORD 1----------------------------------\n",
      " month               | 7                   \n",
      " mean_precipitation  | 1.8785714285714286  \n",
      " total_precipitation | 26.3                \n",
      "only showing top 2 rows\n",
      "\n"
     ]
    }
   ],
   "source": [
    "weather.filter(weather.weather == 'rain'\n",
    "              ).\\\n",
    "            withColumn(\n",
    "                'month',\n",
    "                F.month(weather.date)\n",
    "            ).groupby('month').agg(\n",
    "                (F.mean('precipitation')).alias('mean_precipitation'),\n",
    "                (F.sum('precipitation')).alias('total_precipitation')\n",
    "                ).sort('total_precipitation').show(2, vertical=True)"
   ]
  },
  {
   "cell_type": "markdown",
   "id": "d6f108ae",
   "metadata": {},
   "source": [
    "---"
   ]
  },
  {
   "cell_type": "markdown",
   "id": "65e8a049",
   "metadata": {},
   "source": [
    "<a id='q4c'></a>\n",
    "<b>Question 4c.</b> Which year was the windiest?\n",
    "\n",
    "<li><a href='#q4'>Question 4 Top</a></li>"
   ]
  },
  {
   "cell_type": "code",
   "execution_count": 32,
   "id": "6fc341da",
   "metadata": {},
   "outputs": [
    {
     "data": {
      "text/plain": [
       "['date', 'precipitation', 'temp_max', 'temp_min', 'wind', 'weather']"
      ]
     },
     "execution_count": 32,
     "metadata": {},
     "output_type": "execute_result"
    }
   ],
   "source": [
    "weather.columns"
   ]
  },
  {
   "cell_type": "code",
   "execution_count": 37,
   "id": "ef28ceed",
   "metadata": {},
   "outputs": [
    {
     "data": {
      "text/plain": [
       "Row(year=2012, mean_wind=3.400819672131148, total_wind=1244.7)"
      ]
     },
     "execution_count": 37,
     "metadata": {},
     "output_type": "execute_result"
    }
   ],
   "source": [
    "weather.withColumn(\n",
    "    'year',\n",
    "    F.year(weather.date)\n",
    ").groupby(\n",
    "'year'\n",
    ").agg(\n",
    "    (F.mean('wind')).alias('mean_wind'),\n",
    "    (F.sum('wind')).alias('total_wind')\n",
    ").sort(F.col('total_wind').desc()).first()"
   ]
  },
  {
   "cell_type": "markdown",
   "id": "ecdba1e7",
   "metadata": {},
   "source": [
    "---"
   ]
  },
  {
   "cell_type": "markdown",
   "id": "8c1bd5ba",
   "metadata": {},
   "source": [
    "<a id='q4d'></a>\n",
    "<b>Question 4d.</b> What is the most frequent type of weather in January?\n",
    "\n",
    "<li><a href='#q4'>Question 4 Top</a></li>"
   ]
  },
  {
   "cell_type": "code",
   "execution_count": 39,
   "id": "7d96f9ea",
   "metadata": {},
   "outputs": [
    {
     "name": "stdout",
     "output_type": "stream",
     "text": [
      "+-------+-----+\n",
      "|weather|count|\n",
      "+-------+-----+\n",
      "|    fog|   38|\n",
      "|   rain|   35|\n",
      "|    sun|   33|\n",
      "|drizzle|   10|\n",
      "|   snow|    8|\n",
      "+-------+-----+\n",
      "\n"
     ]
    }
   ],
   "source": [
    "weather.filter(\n",
    "    F.month(weather.date) == 1\n",
    ").groupby('weather').count().sort(F.col('count').desc()).show()"
   ]
  },
  {
   "cell_type": "markdown",
   "id": "9f84daf0",
   "metadata": {},
   "source": [
    "---"
   ]
  },
  {
   "cell_type": "markdown",
   "id": "2052f03f",
   "metadata": {},
   "source": [
    "<a id='q4e'></a>\n",
    "<b>Question 4e.</b> What is the average high and low temperature on sunny days in July in 2013 and 2014?\n",
    "\n",
    "<li><a href='#q4'>Question 4 Top</a></li>"
   ]
  },
  {
   "cell_type": "code",
   "execution_count": 40,
   "id": "8fdd3878",
   "metadata": {},
   "outputs": [
    {
     "name": "stdout",
     "output_type": "stream",
     "text": [
      "+--------+-------+\n",
      "|avg_high|avg_low|\n",
      "+--------+-------+\n",
      "|   80.29|  57.53|\n",
      "+--------+-------+\n",
      "\n"
     ]
    }
   ],
   "source": [
    "weather.filter(\n",
    "    (F.month(weather.date) == 7) &\n",
    "    (F.year(weather.date).isin(['2013', '2014'])) &\n",
    "    (weather.weather == 'sun')\n",
    ").agg(\n",
    "    F.round(F.mean('temp_max'), 2).alias('avg_high'),\n",
    "    F.round(F.mean('temp_min'), 2).alias('avg_low')\n",
    ").show()"
   ]
  },
  {
   "cell_type": "markdown",
   "id": "dc183ff3",
   "metadata": {},
   "source": [
    "---"
   ]
  },
  {
   "cell_type": "markdown",
   "id": "d5ab2a0b",
   "metadata": {},
   "source": [
    "<a id='q4f'></a>\n",
    "<b>Question 4f.</b> What percentage of days were rainy in q3 of 2015?\n",
    "\n",
    "<li><a href='#q4'>Question 4 Top</a></li>"
   ]
  },
  {
   "cell_type": "code",
   "execution_count": 42,
   "id": "08e40fad",
   "metadata": {},
   "outputs": [
    {
     "name": "stdout",
     "output_type": "stream",
     "text": [
      "+---------------+\n",
      "|percentage_rain|\n",
      "+---------------+\n",
      "|         0.0217|\n",
      "+---------------+\n",
      "\n"
     ]
    }
   ],
   "source": [
    "weather.filter(\n",
    "    F.quarter(weather.date) == 3).filter(\n",
    "    F.year(weather.date) == 2015\n",
    ").select(\n",
    "    (F.when(weather.weather == 'rain', 1).otherwise(0)).alias('rain')\n",
    ").agg((F.round(F.mean('rain'), 4)).alias('percentage_rain')).show()"
   ]
  },
  {
   "cell_type": "markdown",
   "id": "a872a93e",
   "metadata": {},
   "source": [
    "---"
   ]
  },
  {
   "cell_type": "markdown",
   "id": "90b8b7c9",
   "metadata": {},
   "source": [
    "<a id='q4g'></a>\n",
    "<b>Question 4g.</b> For each year, find what percentage of days it rained (had non-zero precipitation).\n",
    "\n",
    "<li><a href='#q4'>Question 4 Top</a></li>"
   ]
  },
  {
   "cell_type": "code",
   "execution_count": 43,
   "id": "6dedcda0",
   "metadata": {},
   "outputs": [
    {
     "name": "stdout",
     "output_type": "stream",
     "text": [
      "+----+------------------------+\n",
      "|year|percentage_precipitation|\n",
      "+----+------------------------+\n",
      "|2012|                  0.4836|\n",
      "|2013|                  0.4164|\n",
      "|2014|                   0.411|\n",
      "|2015|                  0.3945|\n",
      "+----+------------------------+\n",
      "\n"
     ]
    }
   ],
   "source": [
    "weather.withColumn(\n",
    "    'year',\n",
    "    F.year(weather.date)).withColumn(\n",
    "    'has_rained',\n",
    "    F.expr('precipitation > 0').cast('int')\n",
    ").groupby('year').agg(\n",
    "    F.round(F.avg('has_rained'), 4).alias('percentage_precipitation')\n",
    ").show()"
   ]
  },
  {
   "cell_type": "markdown",
   "id": "3ec3b05b",
   "metadata": {},
   "source": [
    "<div style='background-color : orange'>\n",
    "<a id='misc'></a>\n",
    "    <b><u><i><h1 style='text-align : center'>\n",
    "        Miscellaneous\n",
    "    </h1></i></u></b>\n",
    "<li><a href='#TableOfContents'>Table of Contents</a></li>"
   ]
  },
  {
   "cell_type": "code",
   "execution_count": null,
   "id": "0ece7c9d",
   "metadata": {},
   "outputs": [],
   "source": []
  }
 ],
 "metadata": {
  "kernelspec": {
   "display_name": "Python 3 (ipykernel)",
   "language": "python",
   "name": "python3"
  },
  "language_info": {
   "codemirror_mode": {
    "name": "ipython",
    "version": 3
   },
   "file_extension": ".py",
   "mimetype": "text/x-python",
   "name": "python",
   "nbconvert_exporter": "python",
   "pygments_lexer": "ipython3",
   "version": "3.9.13"
  }
 },
 "nbformat": 4,
 "nbformat_minor": 5
}
