{
 "cells": [
  {
   "cell_type": "markdown",
   "id": "d828a2f8",
   "metadata": {},
   "source": [
    "<div style='background-color : orange'>\n",
    "<a id='TableOfContents'></a>\n",
    "    <b><u><i><h1 style='text-align : center'>\n",
    "        Table of Contents\n",
    "    </h1></i></u></b>\n",
    "<li><a href='#imports'>Imports</a></li>\n",
    "<li><a href='#initial'>Initial Setup</a></li>\n",
    "<li><a href='#q'>Questions</a></li>\n",
    "<li><a href='#bonus'>Bonus Question?</a></li>\n",
    "<li><a href='#misc'>Miscellaneous</a></li>"
   ]
  },
  {
   "cell_type": "markdown",
   "id": "2b0a2348",
   "metadata": {},
   "source": [
    "<div style='background-color : orange'>\n",
    "<a id='imports'></a>\n",
    "    <b><u><i><h1 style='text-align : center'>\n",
    "        Imports\n",
    "    </h1></i></u></b>\n",
    "<li><a href='#TableOfContents'>Table of Contents</a></li>"
   ]
  },
  {
   "cell_type": "code",
   "execution_count": 3,
   "id": "e9d1131b",
   "metadata": {},
   "outputs": [],
   "source": [
    "# Vectorization and dataframing\n",
    "import numpy as np\n",
    "import pandas as pd\n",
    "\n",
    "# Visualizations\n",
    "import matplotlib.pyplot as plt\n",
    "import matplotlib as mpl\n",
    "import seaborn as sns\n",
    "\n",
    "# spark\n",
    "import pyspark\n",
    "\n",
    "# Ignore warnings\n",
    "import warnings\n",
    "warnings.filterwarnings('ignore')"
   ]
  },
  {
   "cell_type": "code",
   "execution_count": 4,
   "id": "226c697e",
   "metadata": {},
   "outputs": [],
   "source": [
    "# Set default plt style to 'bmh'\n",
    "mpl.style.use('bmh')"
   ]
  },
  {
   "cell_type": "markdown",
   "id": "09a57f87",
   "metadata": {},
   "source": [
    "<div style='background-color : orange'>\n",
    "<a id='initial'></a>\n",
    "    <b><u><i><h1 style='text-align : center'>\n",
    "        Initial Setup\n",
    "    </h1></i></u></b>\n",
    "<li><a href='#TableOfContents'>Table of Contents</a></li>\n",
    "<li><a href='#initial1'>Part 1</a></li>\n",
    "<li><a href='#initial2'>Part 2</a></li>\n",
    "<li><a href='#initial3'>Part 3</a></li>"
   ]
  },
  {
   "cell_type": "markdown",
   "id": "61b62d51",
   "metadata": {},
   "source": [
    "This exercises use the <mark>cases</mark>, <mark>dept</mark>, and <mark>source</mark> tables from the <mark>311_data</mark> on the Codeup MySQL server."
   ]
  },
  {
   "cell_type": "markdown",
   "id": "82bf1b08",
   "metadata": {},
   "source": [
    "---"
   ]
  },
  {
   "cell_type": "markdown",
   "id": "9c6cc08a",
   "metadata": {},
   "source": [
    "<a id='initial1'></a>\n",
    "<h3><b><i>\n",
    "    Part 1\n",
    "</i></b></h3>\n",
    "<li><a href='#initial'>Initial Setup Top</a></li>\n",
    "\n",
    "1. Read the case, department, and source data into their own spark dataframes."
   ]
  },
  {
   "cell_type": "code",
   "execution_count": null,
   "id": "36f108a2",
   "metadata": {},
   "outputs": [],
   "source": []
  },
  {
   "cell_type": "markdown",
   "id": "a2060a8d",
   "metadata": {},
   "source": [
    "---"
   ]
  },
  {
   "cell_type": "markdown",
   "id": "e644a7aa",
   "metadata": {},
   "source": [
    "<a id='initial2'></a>\n",
    "<h3><b><i>\n",
    "    Part 2\n",
    "</i></b></h3>\n",
    "<li><a href='#initial'>Initial Setup Top</a></li>\n",
    "\n",
    "2. Let's see how writing to the local disk works in spark:\n",
    "    - Write the code necessary to store the source data in both csv and json format, store these as <mark>sources_csv</mark> and <mark>sources_json</mark>\n",
    "    - Inspect your folder structure. What do you notice?"
   ]
  },
  {
   "cell_type": "code",
   "execution_count": null,
   "id": "bc20f49e",
   "metadata": {},
   "outputs": [],
   "source": []
  },
  {
   "cell_type": "markdown",
   "id": "93b53832",
   "metadata": {},
   "source": [
    "---"
   ]
  },
  {
   "cell_type": "markdown",
   "id": "7ac19d7d",
   "metadata": {},
   "source": [
    "<a id='initial3'></a>\n",
    "<h3><b><i>\n",
    "    Part 3\n",
    "</i></b></h3>\n",
    "<li><a href='#initial'>Initial Setup Top</a></li>\n",
    "\n",
    "3. Inspect the data in your dataframes. Are the data types appropriate? Write the code necessary to cast the values to the appropriate types."
   ]
  },
  {
   "cell_type": "code",
   "execution_count": null,
   "id": "f4ee2575",
   "metadata": {},
   "outputs": [],
   "source": []
  },
  {
   "cell_type": "markdown",
   "id": "5cdb5022",
   "metadata": {},
   "source": [
    "<div style='background-color : orange'>\n",
    "<a id='q'></a>\n",
    "    <b><u><i><h1 style='text-align : center'>\n",
    "        Questions\n",
    "    </h1></i></u></b>\n",
    "<li><a href='#TableOfContents'>Table of Contents</a></li>\n",
    "<li><a href='#q1'>Question 1</a></li>\n",
    "<li><a href='#q2'>Question 2</a></li>\n",
    "<li><a href='#q3'>Question 3</a></li>\n",
    "<li><a href='#q4'>Question 4</a></li>\n",
    "<li><a href='#q5'>Question 5</a></li>\n",
    "<li><a href='#q6'>Question 6</a></li>\n",
    "<li><a href='#q7'>Question 7</a></li>\n",
    "<li><a href='#q8'>Question 8</a></li>\n",
    "<li><a href='#q9'>Question 9</a></li>\n",
    "<li><a href='#q10'>Question 10</a></li>\n",
    "<li><a href='#q11'>Question 11</a></li>\n",
    "<li><a href='#q12'>Question 12</a></li>"
   ]
  },
  {
   "cell_type": "markdown",
   "id": "f97336d8",
   "metadata": {},
   "source": [
    "<a id='q1'></a>\n",
    "<h3><b><i>\n",
    "    Question 1\n",
    "</i></b></h3>\n",
    "<li><a href='#q'>Questions Top</a></li>\n",
    "\n",
    "1. How old is the latest (in terms of days past SLA) currently open issue? How long has the oldest (in terms of days since opened) currently opened issue been open?"
   ]
  },
  {
   "cell_type": "code",
   "execution_count": null,
   "id": "e4b21a37",
   "metadata": {},
   "outputs": [],
   "source": []
  },
  {
   "cell_type": "markdown",
   "id": "ec8f0d86",
   "metadata": {},
   "source": [
    "---"
   ]
  },
  {
   "cell_type": "markdown",
   "id": "061d9bba",
   "metadata": {},
   "source": [
    "<a id='q2'></a>\n",
    "<h3><b><i>\n",
    "    Question 2\n",
    "</i></b></h3>\n",
    "<li><a href='#q'>Questions Top</a></li>\n",
    "\n",
    "2. How many Stray Animal cases are there?"
   ]
  },
  {
   "cell_type": "code",
   "execution_count": null,
   "id": "67e83a96",
   "metadata": {},
   "outputs": [],
   "source": []
  },
  {
   "cell_type": "markdown",
   "id": "967dae90",
   "metadata": {},
   "source": [
    "---"
   ]
  },
  {
   "cell_type": "markdown",
   "id": "6756ae7c",
   "metadata": {},
   "source": [
    "<a id='q3'></a>\n",
    "<h3><b><i>\n",
    "    Question 3\n",
    "</i></b></h3>\n",
    "<li><a href='#q'>Questions Top</a></li>\n",
    "\n",
    "3. How many service requests that are assigned to the Field Operations department (<mark>dept_division</mark>) are not classified as \"Officer Standby\" request type (<mark>service_request_type</mark>)?"
   ]
  },
  {
   "cell_type": "code",
   "execution_count": null,
   "id": "d0ca3f7d",
   "metadata": {},
   "outputs": [],
   "source": []
  },
  {
   "cell_type": "markdown",
   "id": "5caf3dab",
   "metadata": {},
   "source": [
    "---"
   ]
  },
  {
   "cell_type": "markdown",
   "id": "787139a7",
   "metadata": {},
   "source": [
    "<a id='q4'></a>\n",
    "<h3><b><i>\n",
    "    Question 4\n",
    "</i></b></h3>\n",
    "<li><a href='#q'>Questions Top</a></li>\n",
    "\n",
    "4. Convert the <mark>council_district</mark> column to a string column."
   ]
  },
  {
   "cell_type": "code",
   "execution_count": null,
   "id": "96f73d77",
   "metadata": {},
   "outputs": [],
   "source": []
  },
  {
   "cell_type": "markdown",
   "id": "0aa47465",
   "metadata": {},
   "source": [
    "---"
   ]
  },
  {
   "cell_type": "markdown",
   "id": "454e40c0",
   "metadata": {},
   "source": [
    "<a id='q5'></a>\n",
    "<h3><b><i>\n",
    "    Question 5\n",
    "</i></b></h3>\n",
    "<li><a href='#q'>Questions Top</a></li>\n",
    "\n",
    "5. Extract the year from the <mark>case_closed_date</mark> column."
   ]
  },
  {
   "cell_type": "code",
   "execution_count": null,
   "id": "9983a4a6",
   "metadata": {},
   "outputs": [],
   "source": []
  },
  {
   "cell_type": "markdown",
   "id": "ef903016",
   "metadata": {},
   "source": [
    "---"
   ]
  },
  {
   "cell_type": "markdown",
   "id": "cd475d2f",
   "metadata": {},
   "source": [
    "<a id='q6'></a>\n",
    "<h3><b><i>\n",
    "    Question 6\n",
    "</i></b></h3>\n",
    "<li><a href='#q'>Questions Top</a></li>\n",
    "\n",
    "6. Convert <mark>num_days_late</mark> from days to hours in new columns <mark>num_hours_late</mark>."
   ]
  },
  {
   "cell_type": "code",
   "execution_count": null,
   "id": "7e66bfda",
   "metadata": {},
   "outputs": [],
   "source": []
  },
  {
   "cell_type": "markdown",
   "id": "c850b3eb",
   "metadata": {},
   "source": [
    "---"
   ]
  },
  {
   "cell_type": "markdown",
   "id": "6f270876",
   "metadata": {},
   "source": [
    "<a id='q7'></a>\n",
    "<h3><b><i>\n",
    "    Question 7\n",
    "</i></b></h3>\n",
    "<li><a href='#q'>Questions Top</a></li>\n",
    "\n",
    "7. Join the case data with the source and department data."
   ]
  },
  {
   "cell_type": "code",
   "execution_count": null,
   "id": "13004fcf",
   "metadata": {},
   "outputs": [],
   "source": []
  },
  {
   "cell_type": "markdown",
   "id": "9803c1e7",
   "metadata": {},
   "source": [
    "---"
   ]
  },
  {
   "cell_type": "markdown",
   "id": "228b41c9",
   "metadata": {},
   "source": [
    "<a id='q8'></a>\n",
    "<h3><b><i>\n",
    "    Question 8\n",
    "</i></b></h3>\n",
    "<li><a href='#q'>Questions Top</a></li>\n",
    "\n",
    "8. Are there any cases that do not have a request source?"
   ]
  },
  {
   "cell_type": "code",
   "execution_count": null,
   "id": "efb57128",
   "metadata": {},
   "outputs": [],
   "source": []
  },
  {
   "cell_type": "markdown",
   "id": "c904a2a5",
   "metadata": {},
   "source": [
    "---"
   ]
  },
  {
   "cell_type": "markdown",
   "id": "5a2d0af1",
   "metadata": {},
   "source": [
    "<a id='q9'></a>\n",
    "<h3><b><i>\n",
    "    Question 9\n",
    "</i></b></h3>\n",
    "<li><a href='#q'>Questions Top</a></li>\n",
    "\n",
    "9. What are the top 10 service request types in terms of number of requests?"
   ]
  },
  {
   "cell_type": "code",
   "execution_count": null,
   "id": "f62e147a",
   "metadata": {},
   "outputs": [],
   "source": []
  },
  {
   "cell_type": "markdown",
   "id": "0480c019",
   "metadata": {},
   "source": [
    "---"
   ]
  },
  {
   "cell_type": "markdown",
   "id": "a08c8f84",
   "metadata": {},
   "source": [
    "<a id='q10'></a>\n",
    "<h3><b><i>\n",
    "    Question 10\n",
    "</i></b></h3>\n",
    "<li><a href='#q'>Questions Top</a></li>\n",
    "\n",
    "10. What are the top 10 service request types in terms of average days late?"
   ]
  },
  {
   "cell_type": "code",
   "execution_count": null,
   "id": "1b386659",
   "metadata": {},
   "outputs": [],
   "source": []
  },
  {
   "cell_type": "markdown",
   "id": "b80c1458",
   "metadata": {},
   "source": [
    "---"
   ]
  },
  {
   "cell_type": "markdown",
   "id": "648c73d2",
   "metadata": {},
   "source": [
    "<a id='q11'></a>\n",
    "<h3><b><i>\n",
    "    Question 11\n",
    "</i></b></h3>\n",
    "<li><a href='#q'>Questions Top</a></li>\n",
    "\n",
    "11. Does number of days late depend on department?"
   ]
  },
  {
   "cell_type": "code",
   "execution_count": null,
   "id": "619ce2a3",
   "metadata": {},
   "outputs": [],
   "source": []
  },
  {
   "cell_type": "markdown",
   "id": "34613812",
   "metadata": {},
   "source": [
    "---"
   ]
  },
  {
   "cell_type": "markdown",
   "id": "996ae4af",
   "metadata": {},
   "source": [
    "<a id='q12'></a>\n",
    "<h3><b><i>\n",
    "    Question 12\n",
    "</i></b></h3>\n",
    "<li><a href='#q'>Questions Top</a></li>\n",
    "\n",
    "12. How do number of days late depend on department and request type?"
   ]
  },
  {
   "cell_type": "code",
   "execution_count": null,
   "id": "3d9188dd",
   "metadata": {},
   "outputs": [],
   "source": []
  },
  {
   "cell_type": "markdown",
   "id": "cfa112d4",
   "metadata": {},
   "source": [
    "<div style='background-color : orange'>\n",
    "<a id='bonus'></a>\n",
    "    <b><u><i><h1 style='text-align : center'>\n",
    "        Bonus Question?\n",
    "    </h1></i></u></b>\n",
    "<li><a href='#TableOfContents'>Table of Contents</a></li>"
   ]
  },
  {
   "cell_type": "markdown",
   "id": "2a25aa13",
   "metadata": {},
   "source": [
    "You might have noticed that the latest date in the dataset is fairly far off from the present day. To account for this, replace any occurances of the current time with the maximum date from the dataset."
   ]
  },
  {
   "cell_type": "code",
   "execution_count": null,
   "id": "70f2bd0c",
   "metadata": {},
   "outputs": [],
   "source": []
  },
  {
   "cell_type": "markdown",
   "id": "3ec3b05b",
   "metadata": {},
   "source": [
    "<div style='background-color : orange'>\n",
    "<a id='misc'></a>\n",
    "    <b><u><i><h1 style='text-align : center'>\n",
    "        Miscellaneous\n",
    "    </h1></i></u></b>\n",
    "<li><a href='#TableOfContents'>Table of Contents</a></li>"
   ]
  },
  {
   "cell_type": "code",
   "execution_count": null,
   "id": "0ece7c9d",
   "metadata": {},
   "outputs": [],
   "source": []
  }
 ],
 "metadata": {
  "kernelspec": {
   "display_name": "Python 3 (ipykernel)",
   "language": "python",
   "name": "python3"
  },
  "language_info": {
   "codemirror_mode": {
    "name": "ipython",
    "version": 3
   },
   "file_extension": ".py",
   "mimetype": "text/x-python",
   "name": "python",
   "nbconvert_exporter": "python",
   "pygments_lexer": "ipython3",
   "version": "3.9.13"
  }
 },
 "nbformat": 4,
 "nbformat_minor": 5
}
